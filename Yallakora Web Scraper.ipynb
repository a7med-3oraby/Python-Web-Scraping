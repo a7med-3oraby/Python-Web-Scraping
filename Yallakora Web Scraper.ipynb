{
  "cells": [
    {
      "cell_type": "markdown",
      "metadata": {
        "id": "iLVY1T7Hpl0S"
      },
      "source": [
        "🕸️ Yallakora Web Scraper"
      ]
    },
    {
      "cell_type": "code",
      "execution_count": null,
      "metadata": {},
      "outputs": [],
      "source": [
        "pip install requests beautifulsoup4 lxml"
      ]
    },
    {
      "cell_type": "code",
      "execution_count": 4,
      "metadata": {
        "id": "9b7457a0"
      },
      "outputs": [],
      "source": [
        "from bs4 import BeautifulSoup\n",
        "import requests\n",
        "import csv"
      ]
    },
    {
      "cell_type": "code",
      "execution_count": 5,
      "metadata": {
        "colab": {
          "base_uri": "https://localhost:8080/"
        },
        "collapsed": true,
        "id": "q29Jm6jSDT4t",
        "outputId": "2b60a073-244a-4201-c00b-8b14dae59881"
      },
      "outputs": [],
      "source": [
        "date= input(\"please enter the data you want in the following format (MM/DD/YYYY):\")\n",
        "url = f\"https://www.yallakora.com/match-center?date={date}#days\"\n",
        "page= requests.get(url)\n",
        "soup = BeautifulSoup(page.text,'lxml')\n",
        "match_details=[]\n",
        "# print(soup)"
      ]
    },
    {
      "cell_type": "code",
      "execution_count": 6,
      "metadata": {
        "id": "y78nb9ZrJhUj"
      },
      "outputs": [],
      "source": [
        "champoinShips= soup.find_all('div',{'class':'matchCard'})"
      ]
    },
    {
      "cell_type": "code",
      "execution_count": 12,
      "metadata": {
        "colab": {
          "base_uri": "https://localhost:8080/"
        },
        "id": "4l_Eef4VSm2E",
        "outputId": "d40850b3-f4e6-4755-87a9-2dc0fecacec0"
      },
      "outputs": [
        {
          "name": "stdout",
          "output_type": "stream",
          "text": [
            "file created successfully\n"
          ]
        }
      ],
      "source": [
        "def get_match_info(champoinShips):\n",
        "  champoinship_tittle= champoinShips.contents[1].find('h2').text.strip()\n",
        "  allMatches= champoinShips.contents[3].find_all('div',{'class':'item future liItem'})\n",
        "  numberofMathces = len(allMatches)\n",
        "\n",
        "  for i in range (numberofMathces):\n",
        "    # get team names\n",
        "    teamA= allMatches[i].find('div',{'class':'teams teamA'}).text.strip()\n",
        "    teamB= allMatches[i].find('div',{'class':'teams teamB'}).text.strip()\n",
        "\n",
        "\n",
        "    # get match score\n",
        "    MatchResult = allMatches[i].find('div',{'class':'MResult'}).find_all('span',{'class':'score'})\n",
        "    score = f\"{MatchResult[0].text.strip()} - {MatchResult[1].text.strip()}\"\n",
        "\n",
        "\n",
        "    # get match time\n",
        "    matchTime = allMatches[i].find('div',{'class':'MResult'}).find('span',{'class':'time'}).text.strip()\n",
        "\n",
        "    match_details.append({'champoinShip':champoinship_tittle,'teamA':teamA,'teamB':teamB,'matchTime':matchTime,'score':score})\n",
        "\n",
        "\n",
        "for i in range(len(champoinShips)):\n",
        "  get_match_info(champoinShips[i])\n",
        "\n",
        "\n",
        "keys = match_details[0].keys()\n",
        "with open(r\"C:\\Users\\Asus\\OneDrive\\Desktop\\Yallakora_Matches.csv\", 'w', encoding='utf-8-sig', newline='') as output_file:\n",
        "  dict_writer = csv.DictWriter(output_file, keys)\n",
        "  dict_writer.writeheader()\n",
        "  dict_writer.writerows(match_details)\n",
        "  print(\"file created successfully\")\n"
      ]
    }
  ],
  "metadata": {
    "colab": {
      "provenance": []
    },
    "kernelspec": {
      "display_name": "Python 3",
      "name": "python3"
    },
    "language_info": {
      "codemirror_mode": {
        "name": "ipython",
        "version": 3
      },
      "file_extension": ".py",
      "mimetype": "text/x-python",
      "name": "python",
      "nbconvert_exporter": "python",
      "pygments_lexer": "ipython3",
      "version": "3.12.3"
    }
  },
  "nbformat": 4,
  "nbformat_minor": 0
}
