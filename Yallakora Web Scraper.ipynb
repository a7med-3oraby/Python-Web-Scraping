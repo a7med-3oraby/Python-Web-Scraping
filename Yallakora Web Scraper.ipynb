{
  "nbformat": 4,
  "nbformat_minor": 0,
  "metadata": {
    "colab": {
      "provenance": []
    },
    "kernelspec": {
      "name": "python3",
      "display_name": "Python 3"
    },
    "language_info": {
      "name": "python"
    }
  },
  "cells": [
    {
      "cell_type": "markdown",
      "source": [
        "🕸️ Yallakora Web Scraper"
      ],
      "metadata": {
        "id": "iLVY1T7Hpl0S"
      }
    },
    {
      "cell_type": "code",
      "metadata": {
        "id": "9b7457a0"
      },
      "source": [
        "from bs4 import BeautifulSoup\n",
        "import requests\n",
        "import csv"
      ],
      "execution_count": 5,
      "outputs": []
    },
    {
      "cell_type": "code",
      "source": [
        "date= input(\"please enter the data you want in the following format (MM/DD/YYYY):\")\n",
        "url = f\"https://www.yallakora.com/match-center?date={date}#days\"\n",
        "page= requests.get(url)\n",
        "soup = BeautifulSoup(page.text,'lxml')\n",
        "match_details=[]\n",
        "# print(soup)"
      ],
      "metadata": {
        "colab": {
          "base_uri": "https://localhost:8080/"
        },
        "collapsed": true,
        "id": "q29Jm6jSDT4t",
        "outputId": "2b60a073-244a-4201-c00b-8b14dae59881"
      },
      "execution_count": 6,
      "outputs": [
        {
          "name": "stdout",
          "output_type": "stream",
          "text": [
            "please enter the data you want in the following format (MM/DD/YYYY):8/23/2025\n"
          ]
        }
      ]
    },
    {
      "cell_type": "code",
      "source": [
        "champoinShips= soup.find_all('div',{'class':'matchCard'})"
      ],
      "metadata": {
        "id": "y78nb9ZrJhUj"
      },
      "execution_count": 7,
      "outputs": []
    },
    {
      "cell_type": "code",
      "source": [
        "def get_match_info(champoinShips):\n",
        "  champoinship_tittle= champoinShips.contents[1].find('h2').text.strip()\n",
        "  allMatches= champoinShips.contents[3].find_all('div',{'class':'item future liItem'})\n",
        "  numberofMathces = len(allMatches)\n",
        "\n",
        "  for i in range (numberofMathces):\n",
        "    # get team names\n",
        "    teamA= allMatches[i].find('div',{'class':'teams teamA'}).text.strip()\n",
        "    teamB= allMatches[i].find('div',{'class':'teams teamB'}).text.strip()\n",
        "\n",
        "\n",
        "    # get match score\n",
        "    MatchResult = allMatches[i].find('div',{'class':'MResult'}).find_all('span',{'class':'score'})\n",
        "    score = f\"{MatchResult[0].text.strip()} - {MatchResult[1].text.strip()}\"\n",
        "\n",
        "\n",
        "    # get match time\n",
        "    matchTime = allMatches[i].find('div',{'class':'MResult'}).find('span',{'class':'time'}).text.strip()\n",
        "\n",
        "    match_details.append({'champoinShip':champoinship_tittle,'teamA':teamA,'teamB':teamB,'matchTime':matchTime,'score':score})\n",
        "\n",
        "\n",
        "for i in range(len(champoinShips)):\n",
        "  get_match_info(champoinShips[i])\n",
        "\n",
        "\n",
        "keys = match_details[0].keys()\n",
        "with open('football_dataa.csv', 'w') as output_file:\n",
        "  dict_writer = csv.DictWriter(output_file, keys)\n",
        "  dict_writer.writeheader()\n",
        "  dict_writer.writerows(match_details)\n",
        "  print(\"file created successfully\")\n"
      ],
      "metadata": {
        "colab": {
          "base_uri": "https://localhost:8080/"
        },
        "id": "4l_Eef4VSm2E",
        "outputId": "d40850b3-f4e6-4755-87a9-2dc0fecacec0"
      },
      "execution_count": 8,
      "outputs": [
        {
          "output_type": "stream",
          "name": "stdout",
          "text": [
            "file created successfully\n"
          ]
        }
      ]
    }
  ]
}